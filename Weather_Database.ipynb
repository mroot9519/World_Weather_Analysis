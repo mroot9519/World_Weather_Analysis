{
 "cells": [
  {
   "cell_type": "code",
   "execution_count": 22,
   "metadata": {},
   "outputs": [],
   "source": [
    "# Import the dependencies.\n",
    "import pandas as pd\n",
    "import matplotlib.pyplot as plt\n",
    "import numpy as np\n",
    "#import api key\n",
    "from config import weather_api_key\n",
    "# Import the datetime module from the datetime library.\n",
    "from datetime import datetime\n",
    "import requests\n",
    "import random"
   ]
  },
  {
   "cell_type": "code",
   "execution_count": 23,
   "metadata": {},
   "outputs": [],
   "source": [
    "# Create a set of random latitude and longitude combinations.\n",
    "lats = np.random.uniform(low=-90.000, high=90.000, size=1500)\n",
    "lngs = np.random.uniform(low=-180.000, high=180.000, size=1500)\n",
    "lat_lngs = zip(lats, lngs)\n",
    "#Add the latitudes and longitudes to a list.\n",
    "coordinates = list(lat_lngs)"
   ]
  },
  {
   "cell_type": "code",
   "execution_count": 24,
   "metadata": {},
   "outputs": [],
   "source": [
    "# Use the citipy module to determine city based on latitude and longitude.\n",
    "from citipy import citipy\n",
    "# Starting URL for Weather Map API Call.\n",
    "url = \"http://api.openweathermap.org/data/2.5/weather?units=Imperial&APPID=\" + weather_api_key"
   ]
  },
  {
   "cell_type": "code",
   "execution_count": 25,
   "metadata": {},
   "outputs": [
    {
     "data": {
      "text/plain": [
       "609"
      ]
     },
     "execution_count": 25,
     "metadata": {},
     "output_type": "execute_result"
    }
   ],
   "source": [
    "# Create a list for holding the cities.\n",
    "cities = []\n",
    "# Identify the nearest city for each latitude and longitude combination.\n",
    "for coordinate in coordinates:\n",
    "    city = citipy.nearest_city(coordinate[0], coordinate[1]).city_name\n",
    "    \n",
    "    # If the city is unique, then we will add it to the cities list.\n",
    "    if city not in cities:\n",
    "        cities.append(city)\n",
    "# Print the city count to confirm sufficient count.\n",
    "len(cities)"
   ]
  },
  {
   "cell_type": "code",
   "execution_count": 26,
   "metadata": {},
   "outputs": [
    {
     "data": {
      "text/plain": [
       "{'coord': {'lon': -71.06, 'lat': 42.36},\n",
       " 'weather': [{'id': 801,\n",
       "   'main': 'Clouds',\n",
       "   'description': 'few clouds',\n",
       "   'icon': '02d'}],\n",
       " 'base': 'stations',\n",
       " 'main': {'temp': 52.47,\n",
       "  'feels_like': 38.89,\n",
       "  'temp_min': 50,\n",
       "  'temp_max': 55.4,\n",
       "  'pressure': 1018,\n",
       "  'humidity': 26},\n",
       " 'visibility': 16093,\n",
       " 'wind': {'speed': 14.99, 'deg': 260},\n",
       " 'clouds': {'all': 20},\n",
       " 'dt': 1582486536,\n",
       " 'sys': {'type': 1,\n",
       "  'id': 3486,\n",
       "  'country': 'US',\n",
       "  'sunrise': 1582457403,\n",
       "  'sunset': 1582496737},\n",
       " 'timezone': -18000,\n",
       " 'id': 4930956,\n",
       " 'name': 'Boston',\n",
       " 'cod': 200}"
      ]
     },
     "execution_count": 26,
     "metadata": {},
     "output_type": "execute_result"
    }
   ],
   "source": [
    "city_weather = requests.get(url+\"&q=\"+\"Boston\")\n",
    "city_weather.json()"
   ]
  },
  {
   "cell_type": "code",
   "execution_count": 27,
   "metadata": {},
   "outputs": [
    {
     "name": "stdout",
     "output_type": "stream",
     "text": [
      "Beginning Data Retrieval     \n",
      "-----------------------------\n",
      "Processing Record 1 of Set 1 | mataura\n",
      "Processing Record 2 of Set 1 | borba\n",
      "Processing Record 3 of Set 1 | jamestown\n",
      "Processing Record 4 of Set 1 | smithers\n",
      "Processing Record 5 of Set 1 | rikitea\n",
      "Processing Record 6 of Set 1 | hilo\n",
      "Processing Record 7 of Set 1 | zdvinsk\n",
      "Processing Record 8 of Set 1 | souillac\n",
      "Processing Record 9 of Set 1 | vaini\n",
      "Processing Record 10 of Set 1 | klaksvik\n",
      "Processing Record 11 of Set 1 | araripina\n",
      "Processing Record 12 of Set 1 | cape town\n",
      "Processing Record 13 of Set 1 | georgetown\n",
      "Processing Record 14 of Set 1 | ushuaia\n",
      "Processing Record 15 of Set 1 | busselton\n",
      "Processing Record 16 of Set 1 | esperance\n",
      "Processing Record 17 of Set 1 | imeni poliny osipenko\n",
      "Processing Record 18 of Set 1 | castro\n",
      "Processing Record 19 of Set 1 | yuzhno-yeniseyskiy\n",
      "City not found. Skipping...\n",
      "Processing Record 20 of Set 1 | thompson\n",
      "Processing Record 21 of Set 1 | mogadishu\n"
     ]
    },
    {
     "name": "stderr",
     "output_type": "stream",
     "text": [
      "Traceback (most recent call last):\n",
      "  File \"<ipython-input-27-02e3dfc6af17>\", line 33, in <module>\n",
      "    city_lat = city_weather[\"coord\"][\"lat\"]\n",
      "KeyError: 'coord'\n"
     ]
    },
    {
     "name": "stdout",
     "output_type": "stream",
     "text": [
      "Processing Record 22 of Set 1 | mednogorsk\n",
      "Processing Record 23 of Set 1 | punta arenas\n",
      "Processing Record 24 of Set 1 | new norfolk\n",
      "Processing Record 25 of Set 1 | kapaa\n",
      "Processing Record 26 of Set 1 | nome\n",
      "Processing Record 27 of Set 1 | porto santo\n",
      "Processing Record 28 of Set 1 | pithapuram\n",
      "Processing Record 29 of Set 1 | ponta do sol\n",
      "Processing Record 30 of Set 1 | fairlie\n",
      "Processing Record 31 of Set 1 | yulara\n",
      "Processing Record 32 of Set 1 | namibe\n",
      "Processing Record 33 of Set 1 | cidreira\n",
      "Processing Record 34 of Set 1 | tuatapere\n",
      "Processing Record 35 of Set 1 | nioro\n",
      "Processing Record 36 of Set 1 | fort nelson\n",
      "Processing Record 37 of Set 1 | bluff\n",
      "Processing Record 38 of Set 1 | chokurdakh\n",
      "Processing Record 39 of Set 1 | port alfred\n",
      "Processing Record 40 of Set 1 | bengkulu\n",
      "Processing Record 41 of Set 1 | provideniya\n",
      "Processing Record 42 of Set 1 | marcona\n",
      "City not found. Skipping...\n",
      "Processing Record 43 of Set 1 | ugoofaaru\n",
      "Processing Record 44 of Set 1 | ilulissat\n"
     ]
    },
    {
     "name": "stderr",
     "output_type": "stream",
     "text": [
      "Traceback (most recent call last):\n",
      "  File \"<ipython-input-27-02e3dfc6af17>\", line 33, in <module>\n",
      "    city_lat = city_weather[\"coord\"][\"lat\"]\n",
      "KeyError: 'coord'\n"
     ]
    },
    {
     "name": "stdout",
     "output_type": "stream",
     "text": [
      "Processing Record 45 of Set 1 | bilma\n",
      "Processing Record 46 of Set 1 | nemuro\n",
      "Processing Record 47 of Set 1 | qaanaaq\n",
      "Processing Record 48 of Set 1 | arraial do cabo\n",
      "Processing Record 49 of Set 1 | voh\n",
      "Processing Record 50 of Set 1 | belyy yar\n",
      "Processing Record 1 of Set 2 | urulga\n",
      "City not found. Skipping...\n",
      "Processing Record 2 of Set 2 | pevek\n",
      "Processing Record 3 of Set 2 | san patricio\n"
     ]
    },
    {
     "name": "stderr",
     "output_type": "stream",
     "text": [
      "Traceback (most recent call last):\n",
      "  File \"<ipython-input-27-02e3dfc6af17>\", line 33, in <module>\n",
      "    city_lat = city_weather[\"coord\"][\"lat\"]\n",
      "KeyError: 'coord'\n"
     ]
    },
    {
     "name": "stdout",
     "output_type": "stream",
     "text": [
      "Processing Record 4 of Set 2 | iqaluit\n",
      "Processing Record 5 of Set 2 | ribeira grande\n",
      "Processing Record 6 of Set 2 | burbach\n",
      "Processing Record 7 of Set 2 | goianesia\n",
      "Processing Record 8 of Set 2 | illoqqortoormiut\n",
      "City not found. Skipping...\n",
      "Processing Record 9 of Set 2 | tongliao\n"
     ]
    },
    {
     "name": "stderr",
     "output_type": "stream",
     "text": [
      "Traceback (most recent call last):\n",
      "  File \"<ipython-input-27-02e3dfc6af17>\", line 33, in <module>\n",
      "    city_lat = city_weather[\"coord\"][\"lat\"]\n",
      "KeyError: 'coord'\n"
     ]
    },
    {
     "name": "stdout",
     "output_type": "stream",
     "text": [
      "Processing Record 10 of Set 2 | husavik\n",
      "Processing Record 11 of Set 2 | ishigaki\n",
      "Processing Record 12 of Set 2 | camopi\n",
      "Processing Record 13 of Set 2 | north bend\n",
      "Processing Record 14 of Set 2 | carnarvon\n",
      "Processing Record 15 of Set 2 | kem\n",
      "Processing Record 16 of Set 2 | port elizabeth\n",
      "Processing Record 17 of Set 2 | makaha\n",
      "Processing Record 18 of Set 2 | barentsburg\n",
      "City not found. Skipping...\n",
      "Processing Record 19 of Set 2 | stanghelle\n",
      "Processing Record 20 of Set 2 | hermanus\n"
     ]
    },
    {
     "name": "stderr",
     "output_type": "stream",
     "text": [
      "Traceback (most recent call last):\n",
      "  File \"<ipython-input-27-02e3dfc6af17>\", line 33, in <module>\n",
      "    city_lat = city_weather[\"coord\"][\"lat\"]\n",
      "KeyError: 'coord'\n"
     ]
    },
    {
     "name": "stdout",
     "output_type": "stream",
     "text": [
      "Processing Record 21 of Set 2 | kalaleh\n",
      "Processing Record 22 of Set 2 | pombia\n",
      "Processing Record 23 of Set 2 | mount gambier\n",
      "Processing Record 24 of Set 2 | yellowknife\n",
      "Processing Record 25 of Set 2 | dryden\n",
      "Processing Record 26 of Set 2 | lagoa\n",
      "Processing Record 27 of Set 2 | cayenne\n",
      "Processing Record 28 of Set 2 | yar-sale\n",
      "Processing Record 29 of Set 2 | albany\n",
      "Processing Record 30 of Set 2 | bredasdorp\n",
      "Processing Record 31 of Set 2 | puerto ayora\n",
      "Processing Record 32 of Set 2 | mawlaik\n",
      "Processing Record 33 of Set 2 | viligili\n",
      "City not found. Skipping...\n",
      "Processing Record 34 of Set 2 | shahr-e babak\n",
      "Processing Record 35 of Set 2 | east london\n"
     ]
    },
    {
     "name": "stderr",
     "output_type": "stream",
     "text": [
      "Traceback (most recent call last):\n",
      "  File \"<ipython-input-27-02e3dfc6af17>\", line 33, in <module>\n",
      "    city_lat = city_weather[\"coord\"][\"lat\"]\n",
      "KeyError: 'coord'\n"
     ]
    },
    {
     "name": "stdout",
     "output_type": "stream",
     "text": [
      "Processing Record 36 of Set 2 | mar del plata\n",
      "Processing Record 37 of Set 2 | narsaq\n",
      "Processing Record 38 of Set 2 | kodiak\n",
      "Processing Record 39 of Set 2 | torbay\n",
      "Processing Record 40 of Set 2 | abu kamal\n",
      "Processing Record 41 of Set 2 | qaqortoq\n",
      "Processing Record 42 of Set 2 | ostrovnoy\n",
      "Processing Record 43 of Set 2 | togur\n",
      "Processing Record 44 of Set 2 | victoria\n",
      "Processing Record 45 of Set 2 | taolanaro\n",
      "City not found. Skipping...\n",
      "Processing Record 46 of Set 2 | jalu\n"
     ]
    },
    {
     "name": "stderr",
     "output_type": "stream",
     "text": [
      "Traceback (most recent call last):\n",
      "  File \"<ipython-input-27-02e3dfc6af17>\", line 33, in <module>\n",
      "    city_lat = city_weather[\"coord\"][\"lat\"]\n",
      "KeyError: 'coord'\n"
     ]
    },
    {
     "name": "stdout",
     "output_type": "stream",
     "text": [
      "Processing Record 47 of Set 2 | bambous virieux\n",
      "Processing Record 48 of Set 2 | paraiso\n",
      "Processing Record 49 of Set 2 | santiago\n",
      "Processing Record 50 of Set 2 | ancud\n",
      "Processing Record 1 of Set 3 | paignton\n",
      "Processing Record 2 of Set 3 | angoche\n",
      "Processing Record 3 of Set 3 | belushya guba\n",
      "City not found. Skipping...\n",
      "Processing Record 4 of Set 3 | hobart\n"
     ]
    },
    {
     "name": "stderr",
     "output_type": "stream",
     "text": [
      "Traceback (most recent call last):\n",
      "  File \"<ipython-input-27-02e3dfc6af17>\", line 33, in <module>\n",
      "    city_lat = city_weather[\"coord\"][\"lat\"]\n",
      "KeyError: 'coord'\n"
     ]
    },
    {
     "name": "stdout",
     "output_type": "stream",
     "text": [
      "Processing Record 5 of Set 3 | bolungarvik\n",
      "City not found. Skipping...\n",
      "Processing Record 6 of Set 3 | lavrentiya\n",
      "Processing Record 7 of Set 3 | kruisfontein\n"
     ]
    },
    {
     "name": "stderr",
     "output_type": "stream",
     "text": [
      "Traceback (most recent call last):\n",
      "  File \"<ipython-input-27-02e3dfc6af17>\", line 33, in <module>\n",
      "    city_lat = city_weather[\"coord\"][\"lat\"]\n",
      "KeyError: 'coord'\n"
     ]
    },
    {
     "name": "stdout",
     "output_type": "stream",
     "text": [
      "Processing Record 8 of Set 3 | alekseyevsk\n",
      "Processing Record 9 of Set 3 | hervey bay\n",
      "Processing Record 10 of Set 3 | vestmannaeyjar\n",
      "Processing Record 11 of Set 3 | sorong\n",
      "Processing Record 12 of Set 3 | nikolskoye\n",
      "Processing Record 13 of Set 3 | kutum\n",
      "Processing Record 14 of Set 3 | saskylakh\n",
      "Processing Record 15 of Set 3 | mys shmidta\n"
     ]
    },
    {
     "name": "stderr",
     "output_type": "stream",
     "text": [
      "Traceback (most recent call last):\n",
      "  File \"<ipython-input-27-02e3dfc6af17>\", line 33, in <module>\n",
      "    city_lat = city_weather[\"coord\"][\"lat\"]\n",
      "KeyError: 'coord'\n",
      "Traceback (most recent call last):\n",
      "  File \"<ipython-input-27-02e3dfc6af17>\", line 33, in <module>\n",
      "    city_lat = city_weather[\"coord\"][\"lat\"]\n",
      "KeyError: 'coord'\n",
      "Traceback (most recent call last):\n",
      "  File \"<ipython-input-27-02e3dfc6af17>\", line 33, in <module>\n",
      "    city_lat = city_weather[\"coord\"][\"lat\"]\n",
      "KeyError: 'coord'\n"
     ]
    },
    {
     "name": "stdout",
     "output_type": "stream",
     "text": [
      "City not found. Skipping...\n",
      "Processing Record 16 of Set 3 | attawapiskat\n",
      "City not found. Skipping...\n",
      "Processing Record 17 of Set 3 | burica\n",
      "City not found. Skipping...\n",
      "Processing Record 18 of Set 3 | butaritari\n",
      "Processing Record 19 of Set 3 | barrow\n",
      "Processing Record 20 of Set 3 | tsihombe\n",
      "City not found. Skipping...\n",
      "Processing Record 21 of Set 3 | mezen\n"
     ]
    },
    {
     "name": "stderr",
     "output_type": "stream",
     "text": [
      "Traceback (most recent call last):\n",
      "  File \"<ipython-input-27-02e3dfc6af17>\", line 33, in <module>\n",
      "    city_lat = city_weather[\"coord\"][\"lat\"]\n",
      "KeyError: 'coord'\n"
     ]
    },
    {
     "name": "stdout",
     "output_type": "stream",
     "text": [
      "Processing Record 22 of Set 3 | maniitsoq\n",
      "Processing Record 23 of Set 3 | ulladulla\n",
      "Processing Record 24 of Set 3 | talnakh\n",
      "Processing Record 25 of Set 3 | matara\n",
      "Processing Record 26 of Set 3 | saint-philippe\n",
      "Processing Record 27 of Set 3 | griffith\n",
      "Processing Record 28 of Set 3 | la ronge\n",
      "Processing Record 29 of Set 3 | jiuquan\n",
      "Processing Record 30 of Set 3 | airai\n",
      "Processing Record 31 of Set 3 | morehead\n",
      "Processing Record 32 of Set 3 | dieppe\n",
      "Processing Record 33 of Set 3 | quatre cocos\n",
      "Processing Record 34 of Set 3 | bosaso\n",
      "Processing Record 35 of Set 3 | muscat\n",
      "Processing Record 36 of Set 3 | bargal\n",
      "City not found. Skipping...\n",
      "Processing Record 37 of Set 3 | pacific grove\n",
      "Processing Record 38 of Set 3 | buala\n"
     ]
    },
    {
     "name": "stderr",
     "output_type": "stream",
     "text": [
      "Traceback (most recent call last):\n",
      "  File \"<ipython-input-27-02e3dfc6af17>\", line 33, in <module>\n",
      "    city_lat = city_weather[\"coord\"][\"lat\"]\n",
      "KeyError: 'coord'\n"
     ]
    },
    {
     "name": "stdout",
     "output_type": "stream",
     "text": [
      "Processing Record 39 of Set 3 | punta gorda\n",
      "Processing Record 40 of Set 3 | punta cardon\n",
      "Processing Record 41 of Set 3 | guerrero negro\n",
      "Processing Record 42 of Set 3 | ostrowiec swietokrzyski\n",
      "Processing Record 43 of Set 3 | carndonagh\n",
      "Processing Record 44 of Set 3 | turbat\n",
      "Processing Record 45 of Set 3 | port hardy\n",
      "Processing Record 46 of Set 3 | inhambane\n",
      "Processing Record 47 of Set 3 | saldanha\n",
      "Processing Record 48 of Set 3 | tombouctou\n",
      "Processing Record 49 of Set 3 | vila velha\n",
      "Processing Record 50 of Set 3 | barreirinhas\n",
      "Processing Record 1 of Set 4 | takoradi\n",
      "Processing Record 2 of Set 4 | cap malheureux\n",
      "Processing Record 3 of Set 4 | thunder bay\n",
      "Processing Record 4 of Set 4 | brae\n",
      "Processing Record 5 of Set 4 | atuona\n",
      "Processing Record 6 of Set 4 | shimoda\n",
      "Processing Record 7 of Set 4 | saint-georges\n",
      "Processing Record 8 of Set 4 | minot\n",
      "Processing Record 9 of Set 4 | norman wells\n",
      "Processing Record 10 of Set 4 | jejuri\n",
      "Processing Record 11 of Set 4 | ensley\n",
      "Processing Record 12 of Set 4 | madera\n",
      "Processing Record 13 of Set 4 | nhulunbuy\n",
      "Processing Record 14 of Set 4 | buchanan\n",
      "Processing Record 15 of Set 4 | hluboka nad vltavou\n",
      "Processing Record 16 of Set 4 | denekamp\n",
      "Processing Record 17 of Set 4 | moindou\n",
      "Processing Record 18 of Set 4 | bethlehem\n",
      "Processing Record 19 of Set 4 | hithadhoo\n",
      "Processing Record 20 of Set 4 | dingle\n",
      "Processing Record 21 of Set 4 | umzimvubu\n",
      "City not found. Skipping...\n",
      "Processing Record 22 of Set 4 | severo-kurilsk\n",
      "Processing Record 23 of Set 4 | krasnoselkup\n"
     ]
    },
    {
     "name": "stderr",
     "output_type": "stream",
     "text": [
      "Traceback (most recent call last):\n",
      "  File \"<ipython-input-27-02e3dfc6af17>\", line 33, in <module>\n",
      "    city_lat = city_weather[\"coord\"][\"lat\"]\n",
      "KeyError: 'coord'\n"
     ]
    },
    {
     "name": "stdout",
     "output_type": "stream",
     "text": [
      "Processing Record 24 of Set 4 | de aar\n",
      "Processing Record 25 of Set 4 | sitka\n",
      "Processing Record 26 of Set 4 | banes\n",
      "Processing Record 27 of Set 4 | coquimbo\n",
      "Processing Record 28 of Set 4 | soyo\n",
      "Processing Record 29 of Set 4 | rungata\n"
     ]
    },
    {
     "name": "stderr",
     "output_type": "stream",
     "text": [
      "Traceback (most recent call last):\n",
      "  File \"<ipython-input-27-02e3dfc6af17>\", line 33, in <module>\n",
      "    city_lat = city_weather[\"coord\"][\"lat\"]\n",
      "KeyError: 'coord'\n"
     ]
    },
    {
     "name": "stdout",
     "output_type": "stream",
     "text": [
      "City not found. Skipping...\n",
      "Processing Record 30 of Set 4 | baker city\n",
      "Processing Record 31 of Set 4 | gimli\n",
      "Processing Record 32 of Set 4 | eau claire\n",
      "Processing Record 33 of Set 4 | emba\n",
      "Processing Record 34 of Set 4 | zanjan\n",
      "Processing Record 35 of Set 4 | mehamn\n",
      "Processing Record 36 of Set 4 | northam\n",
      "Processing Record 37 of Set 4 | moranbah\n",
      "Processing Record 38 of Set 4 | vaitupu\n",
      "City not found. Skipping...\n",
      "Processing Record 39 of Set 4 | saleaula\n",
      "City not found. Skipping...\n",
      "Processing Record 40 of Set 4 | agadez\n"
     ]
    },
    {
     "name": "stderr",
     "output_type": "stream",
     "text": [
      "Traceback (most recent call last):\n",
      "  File \"<ipython-input-27-02e3dfc6af17>\", line 33, in <module>\n",
      "    city_lat = city_weather[\"coord\"][\"lat\"]\n",
      "KeyError: 'coord'\n",
      "Traceback (most recent call last):\n",
      "  File \"<ipython-input-27-02e3dfc6af17>\", line 33, in <module>\n",
      "    city_lat = city_weather[\"coord\"][\"lat\"]\n",
      "KeyError: 'coord'\n"
     ]
    },
    {
     "name": "stdout",
     "output_type": "stream",
     "text": [
      "Processing Record 41 of Set 4 | palmer\n",
      "Processing Record 42 of Set 4 | laguna\n",
      "Processing Record 43 of Set 4 | llangefni\n",
      "Processing Record 44 of Set 4 | halalo\n",
      "City not found. Skipping...\n",
      "Processing Record 45 of Set 4 | derzhavinsk\n",
      "Processing Record 46 of Set 4 | amderma\n"
     ]
    },
    {
     "name": "stderr",
     "output_type": "stream",
     "text": [
      "Traceback (most recent call last):\n",
      "  File \"<ipython-input-27-02e3dfc6af17>\", line 33, in <module>\n",
      "    city_lat = city_weather[\"coord\"][\"lat\"]\n",
      "KeyError: 'coord'\n",
      "Traceback (most recent call last):\n",
      "  File \"<ipython-input-27-02e3dfc6af17>\", line 33, in <module>\n",
      "    city_lat = city_weather[\"coord\"][\"lat\"]\n",
      "KeyError: 'coord'\n"
     ]
    },
    {
     "name": "stdout",
     "output_type": "stream",
     "text": [
      "City not found. Skipping...\n",
      "Processing Record 47 of Set 4 | tias\n",
      "Processing Record 48 of Set 4 | nizhneyansk\n"
     ]
    },
    {
     "name": "stderr",
     "output_type": "stream",
     "text": [
      "Traceback (most recent call last):\n",
      "  File \"<ipython-input-27-02e3dfc6af17>\", line 33, in <module>\n",
      "    city_lat = city_weather[\"coord\"][\"lat\"]\n",
      "KeyError: 'coord'\n"
     ]
    },
    {
     "name": "stdout",
     "output_type": "stream",
     "text": [
      "City not found. Skipping...\n",
      "Processing Record 49 of Set 4 | yabelo\n",
      "Processing Record 50 of Set 4 | khatanga\n",
      "Processing Record 1 of Set 5 | innisfail\n",
      "Processing Record 2 of Set 5 | bakchar\n",
      "Processing Record 3 of Set 5 | poum\n",
      "Processing Record 4 of Set 5 | erdenet\n",
      "Processing Record 5 of Set 5 | whitianga\n",
      "Processing Record 6 of Set 5 | puerto salgar\n",
      "Processing Record 7 of Set 5 | salatrucu\n",
      "Processing Record 8 of Set 5 | lorengau\n",
      "Processing Record 9 of Set 5 | upernavik\n",
      "Processing Record 10 of Set 5 | sulangan\n",
      "Processing Record 11 of Set 5 | santa isabel do rio negro\n",
      "Processing Record 12 of Set 5 | satitoa\n",
      "City not found. Skipping...\n",
      "Processing Record 13 of Set 5 | zhigansk\n"
     ]
    },
    {
     "name": "stderr",
     "output_type": "stream",
     "text": [
      "Traceback (most recent call last):\n",
      "  File \"<ipython-input-27-02e3dfc6af17>\", line 33, in <module>\n",
      "    city_lat = city_weather[\"coord\"][\"lat\"]\n",
      "KeyError: 'coord'\n"
     ]
    },
    {
     "name": "stdout",
     "output_type": "stream",
     "text": [
      "Processing Record 14 of Set 5 | cherskiy\n",
      "Processing Record 15 of Set 5 | natal\n",
      "Processing Record 16 of Set 5 | kaduqli\n",
      "Processing Record 17 of Set 5 | arica\n",
      "Processing Record 18 of Set 5 | kemijarvi\n",
      "City not found. Skipping...\n",
      "Processing Record 19 of Set 5 | vyartsilya\n"
     ]
    },
    {
     "name": "stderr",
     "output_type": "stream",
     "text": [
      "Traceback (most recent call last):\n",
      "  File \"<ipython-input-27-02e3dfc6af17>\", line 33, in <module>\n",
      "    city_lat = city_weather[\"coord\"][\"lat\"]\n",
      "KeyError: 'coord'\n"
     ]
    },
    {
     "name": "stdout",
     "output_type": "stream",
     "text": [
      "Processing Record 20 of Set 5 | saint george\n",
      "Processing Record 21 of Set 5 | muana\n",
      "Processing Record 22 of Set 5 | matay\n",
      "Processing Record 23 of Set 5 | padang\n",
      "Processing Record 24 of Set 5 | kloulklubed\n",
      "Processing Record 25 of Set 5 | hengshui\n",
      "Processing Record 26 of Set 5 | ajdabiya\n",
      "Processing Record 27 of Set 5 | broome\n",
      "Processing Record 28 of Set 5 | nantucket\n",
      "Processing Record 29 of Set 5 | anshun\n",
      "Processing Record 30 of Set 5 | susangerd\n",
      "Processing Record 31 of Set 5 | chagda\n",
      "City not found. Skipping...\n",
      "Processing Record 32 of Set 5 | cabo san lucas\n"
     ]
    },
    {
     "name": "stderr",
     "output_type": "stream",
     "text": [
      "Traceback (most recent call last):\n",
      "  File \"<ipython-input-27-02e3dfc6af17>\", line 33, in <module>\n",
      "    city_lat = city_weather[\"coord\"][\"lat\"]\n",
      "KeyError: 'coord'\n"
     ]
    },
    {
     "name": "stdout",
     "output_type": "stream",
     "text": [
      "Processing Record 33 of Set 5 | jieshi\n",
      "Processing Record 34 of Set 5 | praia da vitoria\n",
      "Processing Record 35 of Set 5 | morondava\n",
      "Processing Record 36 of Set 5 | chernyshevskiy\n",
      "Processing Record 37 of Set 5 | komsomolskiy\n",
      "Processing Record 38 of Set 5 | tuktoyaktuk\n",
      "Processing Record 39 of Set 5 | fare\n",
      "Processing Record 40 of Set 5 | steamboat springs\n",
      "Processing Record 41 of Set 5 | lebu\n",
      "Processing Record 42 of Set 5 | pervomayskoye\n",
      "Processing Record 43 of Set 5 | soe\n",
      "Processing Record 44 of Set 5 | amapa\n",
      "Processing Record 45 of Set 5 | faanui\n",
      "Processing Record 46 of Set 5 | cockburn town\n",
      "Processing Record 47 of Set 5 | shellbrook\n",
      "Processing Record 48 of Set 5 | riyadh\n",
      "Processing Record 49 of Set 5 | mayo\n",
      "Processing Record 50 of Set 5 | tlucna\n",
      "Processing Record 1 of Set 6 | tiksi\n",
      "Processing Record 2 of Set 6 | kanigoro\n",
      "Processing Record 3 of Set 6 | prince rupert\n",
      "Processing Record 4 of Set 6 | sekovici\n",
      "Processing Record 5 of Set 6 | kahului\n",
      "Processing Record 6 of Set 6 | alofi\n",
      "Processing Record 7 of Set 6 | santa rosa\n",
      "Processing Record 8 of Set 6 | batemans bay\n",
      "Processing Record 9 of Set 6 | avarua\n",
      "Processing Record 10 of Set 6 | tanout\n",
      "Processing Record 11 of Set 6 | stoyba\n",
      "City not found. Skipping...\n",
      "Processing Record 12 of Set 6 | novobeysugskaya\n",
      "Processing Record 13 of Set 6 | dalmatovo\n"
     ]
    },
    {
     "name": "stderr",
     "output_type": "stream",
     "text": [
      "Traceback (most recent call last):\n",
      "  File \"<ipython-input-27-02e3dfc6af17>\", line 33, in <module>\n",
      "    city_lat = city_weather[\"coord\"][\"lat\"]\n",
      "KeyError: 'coord'\n"
     ]
    },
    {
     "name": "stdout",
     "output_type": "stream",
     "text": [
      "Processing Record 14 of Set 6 | san juan\n",
      "Processing Record 15 of Set 6 | tasiilaq\n",
      "Processing Record 16 of Set 6 | conroe\n",
      "Processing Record 17 of Set 6 | bairiki\n",
      "Processing Record 18 of Set 6 | dwarka\n",
      "Processing Record 19 of Set 6 | raudeberg\n",
      "Processing Record 20 of Set 6 | neiafu\n",
      "Processing Record 21 of Set 6 | grand river south east\n",
      "City not found. Skipping...\n",
      "Processing Record 22 of Set 6 | kavieng\n"
     ]
    },
    {
     "name": "stderr",
     "output_type": "stream",
     "text": [
      "Traceback (most recent call last):\n",
      "  File \"<ipython-input-27-02e3dfc6af17>\", line 33, in <module>\n",
      "    city_lat = city_weather[\"coord\"][\"lat\"]\n",
      "KeyError: 'coord'\n"
     ]
    },
    {
     "name": "stdout",
     "output_type": "stream",
     "text": [
      "Processing Record 23 of Set 6 | avera\n",
      "Processing Record 24 of Set 6 | tarko-sale\n",
      "Processing Record 25 of Set 6 | luanda\n",
      "Processing Record 26 of Set 6 | samusu\n",
      "City not found. Skipping...\n",
      "Processing Record 27 of Set 6 | mopipi\n",
      "Processing Record 28 of Set 6 | leningradskiy\n"
     ]
    },
    {
     "name": "stderr",
     "output_type": "stream",
     "text": [
      "Traceback (most recent call last):\n",
      "  File \"<ipython-input-27-02e3dfc6af17>\", line 33, in <module>\n",
      "    city_lat = city_weather[\"coord\"][\"lat\"]\n",
      "KeyError: 'coord'\n"
     ]
    },
    {
     "name": "stdout",
     "output_type": "stream",
     "text": [
      "Processing Record 29 of Set 6 | touros\n",
      "Processing Record 30 of Set 6 | mackay\n",
      "Processing Record 31 of Set 6 | constitucion\n",
      "Processing Record 32 of Set 6 | havelock\n",
      "Processing Record 33 of Set 6 | svetlyy\n",
      "Processing Record 34 of Set 6 | arman\n",
      "Processing Record 35 of Set 6 | vostok\n",
      "Processing Record 36 of Set 6 | solnechnyy\n",
      "Processing Record 37 of Set 6 | bethel\n",
      "Processing Record 38 of Set 6 | batagay-alyta\n",
      "Processing Record 39 of Set 6 | severodvinsk\n",
      "Processing Record 40 of Set 6 | katsuura\n",
      "Processing Record 41 of Set 6 | yanan\n",
      "City not found. Skipping...\n",
      "Processing Record 42 of Set 6 | grand gaube\n",
      "Processing Record 43 of Set 6 | torredonjimeno\n"
     ]
    },
    {
     "name": "stderr",
     "output_type": "stream",
     "text": [
      "Traceback (most recent call last):\n",
      "  File \"<ipython-input-27-02e3dfc6af17>\", line 33, in <module>\n",
      "    city_lat = city_weather[\"coord\"][\"lat\"]\n",
      "KeyError: 'coord'\n"
     ]
    },
    {
     "name": "stdout",
     "output_type": "stream",
     "text": [
      "Processing Record 44 of Set 6 | dikson\n",
      "Processing Record 45 of Set 6 | koumac\n",
      "Processing Record 46 of Set 6 | diffa\n",
      "Processing Record 47 of Set 6 | mecca\n",
      "Processing Record 48 of Set 6 | geraldton\n",
      "Processing Record 49 of Set 6 | kayes\n",
      "Processing Record 50 of Set 6 | fairbanks\n",
      "Processing Record 1 of Set 7 | wanning\n",
      "Processing Record 2 of Set 7 | sorvag\n"
     ]
    },
    {
     "name": "stderr",
     "output_type": "stream",
     "text": [
      "Traceback (most recent call last):\n",
      "  File \"<ipython-input-27-02e3dfc6af17>\", line 33, in <module>\n",
      "    city_lat = city_weather[\"coord\"][\"lat\"]\n",
      "KeyError: 'coord'\n"
     ]
    },
    {
     "name": "stdout",
     "output_type": "stream",
     "text": [
      "City not found. Skipping...\n",
      "Processing Record 3 of Set 7 | general roca\n",
      "Processing Record 4 of Set 7 | turan\n",
      "Processing Record 5 of Set 7 | simbahan\n",
      "Processing Record 6 of Set 7 | marystown\n",
      "Processing Record 7 of Set 7 | tarkwa\n",
      "Processing Record 8 of Set 7 | tsiroanomandidy\n",
      "Processing Record 9 of Set 7 | maple creek\n",
      "Processing Record 10 of Set 7 | chuy\n",
      "Processing Record 11 of Set 7 | te anau\n",
      "Processing Record 12 of Set 7 | kaitangata\n",
      "Processing Record 13 of Set 7 | panguna\n",
      "Processing Record 14 of Set 7 | aykhal\n",
      "Processing Record 15 of Set 7 | deputatskiy\n",
      "Processing Record 16 of Set 7 | axim\n",
      "Processing Record 17 of Set 7 | hami\n",
      "Processing Record 18 of Set 7 | ruatoria\n",
      "City not found. Skipping...\n",
      "Processing Record 19 of Set 7 | nishihara\n",
      "Processing Record 20 of Set 7 | rio gallegos\n"
     ]
    },
    {
     "name": "stderr",
     "output_type": "stream",
     "text": [
      "Traceback (most recent call last):\n",
      "  File \"<ipython-input-27-02e3dfc6af17>\", line 33, in <module>\n",
      "    city_lat = city_weather[\"coord\"][\"lat\"]\n",
      "KeyError: 'coord'\n"
     ]
    },
    {
     "name": "stdout",
     "output_type": "stream",
     "text": [
      "Processing Record 21 of Set 7 | ishimbay\n",
      "Processing Record 22 of Set 7 | chudniv\n",
      "Processing Record 23 of Set 7 | cachoeirinha\n",
      "Processing Record 24 of Set 7 | kargasok\n",
      "Processing Record 25 of Set 7 | blackwater\n",
      "Processing Record 26 of Set 7 | yendi\n",
      "Processing Record 27 of Set 7 | yenagoa\n",
      "Processing Record 28 of Set 7 | aklavik\n",
      "Processing Record 29 of Set 7 | robertsport\n",
      "Processing Record 30 of Set 7 | itarema\n",
      "Processing Record 31 of Set 7 | port lincoln\n",
      "Processing Record 32 of Set 7 | marsa matruh\n",
      "Processing Record 33 of Set 7 | mahebourg\n",
      "Processing Record 34 of Set 7 | gouyave\n",
      "Processing Record 35 of Set 7 | yueyang\n",
      "Processing Record 36 of Set 7 | petropavlovsk-kamchatskiy\n",
      "Processing Record 37 of Set 7 | barguzin\n",
      "Processing Record 38 of Set 7 | longyearbyen\n",
      "Processing Record 39 of Set 7 | quesnel\n",
      "Processing Record 40 of Set 7 | anolaima\n",
      "Processing Record 41 of Set 7 | pahrump\n",
      "Processing Record 42 of Set 7 | peniche\n",
      "Processing Record 43 of Set 7 | luganville\n",
      "Processing Record 44 of Set 7 | san quintin\n",
      "Processing Record 45 of Set 7 | acarau\n",
      "Processing Record 46 of Set 7 | acapulco\n",
      "Processing Record 47 of Set 7 | siguiri\n",
      "Processing Record 48 of Set 7 | sentyabrskiy\n",
      "City not found. Skipping...\n",
      "Processing Record 49 of Set 7 | nabire\n"
     ]
    },
    {
     "name": "stderr",
     "output_type": "stream",
     "text": [
      "Traceback (most recent call last):\n",
      "  File \"<ipython-input-27-02e3dfc6af17>\", line 33, in <module>\n",
      "    city_lat = city_weather[\"coord\"][\"lat\"]\n",
      "KeyError: 'coord'\n"
     ]
    },
    {
     "name": "stdout",
     "output_type": "stream",
     "text": [
      "Processing Record 50 of Set 7 | richards bay\n",
      "Processing Record 1 of Set 8 | duzce\n",
      "Processing Record 2 of Set 8 | igarka\n",
      "Processing Record 3 of Set 8 | vasto\n",
      "Processing Record 4 of Set 8 | envira\n",
      "Processing Record 5 of Set 8 | kez\n",
      "Processing Record 6 of Set 8 | opuwo\n",
      "Processing Record 7 of Set 8 | lata\n",
      "Processing Record 8 of Set 8 | abha\n",
      "Processing Record 9 of Set 8 | srandakan\n",
      "Processing Record 10 of Set 8 | berlevag\n",
      "Processing Record 11 of Set 8 | careiro da varzea\n",
      "Processing Record 12 of Set 8 | olga\n",
      "Processing Record 13 of Set 8 | hambantota\n",
      "Processing Record 14 of Set 8 | moron\n",
      "Processing Record 15 of Set 8 | mentok\n",
      "City not found. Skipping...\n",
      "Processing Record 16 of Set 8 | salalah\n",
      "Processing Record 17 of Set 8 | honningsvag\n"
     ]
    },
    {
     "name": "stderr",
     "output_type": "stream",
     "text": [
      "Traceback (most recent call last):\n",
      "  File \"<ipython-input-27-02e3dfc6af17>\", line 33, in <module>\n",
      "    city_lat = city_weather[\"coord\"][\"lat\"]\n",
      "KeyError: 'coord'\n"
     ]
    },
    {
     "name": "stdout",
     "output_type": "stream",
     "text": [
      "Processing Record 18 of Set 8 | faya\n",
      "Processing Record 19 of Set 8 | grindavik\n",
      "Processing Record 20 of Set 8 | havoysund\n",
      "Processing Record 21 of Set 8 | olafsvik\n",
      "Processing Record 22 of Set 8 | tongzi\n",
      "Processing Record 23 of Set 8 | santa cruz\n",
      "Processing Record 24 of Set 8 | rodrigues alves\n",
      "Processing Record 25 of Set 8 | muisne\n",
      "Processing Record 26 of Set 8 | flinders\n",
      "Processing Record 27 of Set 8 | price\n",
      "Processing Record 28 of Set 8 | qarqin\n",
      "Processing Record 29 of Set 8 | yaan\n",
      "Processing Record 30 of Set 8 | bubaque\n",
      "Processing Record 31 of Set 8 | vardo\n",
      "Processing Record 32 of Set 8 | margate\n",
      "Processing Record 33 of Set 8 | maragogi\n",
      "Processing Record 34 of Set 8 | saint anthony\n",
      "Processing Record 35 of Set 8 | sola\n",
      "Processing Record 36 of Set 8 | kidero\n",
      "Processing Record 37 of Set 8 | ambovombe\n",
      "Processing Record 38 of Set 8 | ambilobe\n",
      "Processing Record 39 of Set 8 | meulaboh\n",
      "Processing Record 40 of Set 8 | sorland\n",
      "Processing Record 41 of Set 8 | tevriz\n",
      "Processing Record 42 of Set 8 | kinablangan\n",
      "Processing Record 43 of Set 8 | grand forks\n",
      "Processing Record 44 of Set 8 | camacha\n",
      "Processing Record 45 of Set 8 | lyuban\n",
      "Processing Record 46 of Set 8 | kampene\n",
      "Processing Record 47 of Set 8 | digby\n",
      "Processing Record 48 of Set 8 | udala\n",
      "Processing Record 49 of Set 8 | lianyuan\n",
      "Processing Record 50 of Set 8 | agadir\n",
      "Processing Record 1 of Set 9 | khandyga\n",
      "Processing Record 2 of Set 9 | eureka\n",
      "Processing Record 3 of Set 9 | hamilton\n",
      "Processing Record 4 of Set 9 | gat\n",
      "Processing Record 5 of Set 9 | laiyang\n",
      "Processing Record 6 of Set 9 | salinopolis\n",
      "Processing Record 7 of Set 9 | saint marys\n",
      "Processing Record 8 of Set 9 | port hedland\n",
      "Processing Record 9 of Set 9 | yangjiang\n",
      "Processing Record 10 of Set 9 | bati\n",
      "Processing Record 11 of Set 9 | barawe\n",
      "City not found. Skipping...\n",
      "Processing Record 12 of Set 9 | bilibino\n"
     ]
    },
    {
     "name": "stderr",
     "output_type": "stream",
     "text": [
      "Traceback (most recent call last):\n",
      "  File \"<ipython-input-27-02e3dfc6af17>\", line 33, in <module>\n",
      "    city_lat = city_weather[\"coord\"][\"lat\"]\n",
      "KeyError: 'coord'\n"
     ]
    },
    {
     "name": "stdout",
     "output_type": "stream",
     "text": [
      "Processing Record 13 of Set 9 | saint-pierre\n",
      "Processing Record 14 of Set 9 | sisimiut\n",
      "Processing Record 15 of Set 9 | scottsburgh\n"
     ]
    },
    {
     "name": "stderr",
     "output_type": "stream",
     "text": [
      "Traceback (most recent call last):\n",
      "  File \"<ipython-input-27-02e3dfc6af17>\", line 33, in <module>\n",
      "    city_lat = city_weather[\"coord\"][\"lat\"]\n",
      "KeyError: 'coord'\n"
     ]
    },
    {
     "name": "stdout",
     "output_type": "stream",
     "text": [
      "City not found. Skipping...\n",
      "Processing Record 16 of Set 9 | zarubino\n",
      "Processing Record 17 of Set 9 | oktyabrskoye\n",
      "Processing Record 18 of Set 9 | sangar\n",
      "Processing Record 19 of Set 9 | colares\n",
      "Processing Record 20 of Set 9 | yuanping\n",
      "Processing Record 21 of Set 9 | meybod\n",
      "Processing Record 22 of Set 9 | tezu\n",
      "Processing Record 23 of Set 9 | ngukurr\n",
      "City not found. Skipping...\n",
      "Processing Record 24 of Set 9 | novikovo\n"
     ]
    },
    {
     "name": "stderr",
     "output_type": "stream",
     "text": [
      "Traceback (most recent call last):\n",
      "  File \"<ipython-input-27-02e3dfc6af17>\", line 33, in <module>\n",
      "    city_lat = city_weather[\"coord\"][\"lat\"]\n",
      "KeyError: 'coord'\n"
     ]
    },
    {
     "name": "stdout",
     "output_type": "stream",
     "text": [
      "Processing Record 25 of Set 9 | ilam\n",
      "Processing Record 26 of Set 9 | hofn\n",
      "Processing Record 27 of Set 9 | umm kaddadah\n",
      "Processing Record 28 of Set 9 | aras\n",
      "Processing Record 29 of Set 9 | zhezkazgan\n",
      "Processing Record 30 of Set 9 | viedma\n",
      "Processing Record 31 of Set 9 | aswan\n",
      "Processing Record 32 of Set 9 | sao filipe\n",
      "Processing Record 33 of Set 9 | zeya\n",
      "Processing Record 34 of Set 9 | pisco\n",
      "Processing Record 35 of Set 9 | port keats\n",
      "Processing Record 36 of Set 9 | bontang\n",
      "Processing Record 37 of Set 9 | along\n",
      "Processing Record 38 of Set 9 | ambon\n",
      "Processing Record 39 of Set 9 | quelimane\n",
      "Processing Record 40 of Set 9 | sapa\n",
      "Processing Record 41 of Set 9 | san cristobal\n",
      "Processing Record 42 of Set 9 | nanortalik\n",
      "Processing Record 43 of Set 9 | benjamin constant\n",
      "Processing Record 44 of Set 9 | maloshuyka\n"
     ]
    },
    {
     "name": "stderr",
     "output_type": "stream",
     "text": [
      "Traceback (most recent call last):\n",
      "  File \"<ipython-input-27-02e3dfc6af17>\", line 33, in <module>\n",
      "    city_lat = city_weather[\"coord\"][\"lat\"]\n",
      "KeyError: 'coord'\n",
      "Traceback (most recent call last):\n",
      "  File \"<ipython-input-27-02e3dfc6af17>\", line 33, in <module>\n",
      "    city_lat = city_weather[\"coord\"][\"lat\"]\n",
      "KeyError: 'coord'\n"
     ]
    },
    {
     "name": "stdout",
     "output_type": "stream",
     "text": [
      "City not found. Skipping...\n",
      "Processing Record 45 of Set 9 | erenhot\n",
      "Processing Record 46 of Set 9 | fort saint john\n",
      "City not found. Skipping...\n",
      "Processing Record 47 of Set 9 | kastamonu\n",
      "Processing Record 48 of Set 9 | sabha\n",
      "Processing Record 49 of Set 9 | ada\n",
      "Processing Record 50 of Set 9 | babanusah\n"
     ]
    },
    {
     "name": "stderr",
     "output_type": "stream",
     "text": [
      "Traceback (most recent call last):\n",
      "  File \"<ipython-input-27-02e3dfc6af17>\", line 33, in <module>\n",
      "    city_lat = city_weather[\"coord\"][\"lat\"]\n",
      "KeyError: 'coord'\n"
     ]
    },
    {
     "name": "stdout",
     "output_type": "stream",
     "text": [
      "City not found. Skipping...\n",
      "Processing Record 1 of Set 10 | kindu\n",
      "Processing Record 2 of Set 10 | shizunai\n",
      "Processing Record 3 of Set 10 | corpus christi\n",
      "Processing Record 4 of Set 10 | ust-nera\n",
      "Processing Record 5 of Set 10 | isangel\n",
      "Processing Record 6 of Set 10 | yangambi\n",
      "Processing Record 7 of Set 10 | russell\n",
      "Processing Record 8 of Set 10 | odweyne\n",
      "Processing Record 9 of Set 10 | aitape\n",
      "Processing Record 10 of Set 10 | rapid valley\n",
      "Processing Record 11 of Set 10 | saint-francois\n",
      "Processing Record 12 of Set 10 | asau\n",
      "Processing Record 13 of Set 10 | alice springs\n",
      "Processing Record 14 of Set 10 | severo-yeniseyskiy\n",
      "Processing Record 15 of Set 10 | clyde river\n",
      "Processing Record 16 of Set 10 | san carlos de bariloche\n",
      "Processing Record 17 of Set 10 | nouakchott\n",
      "Processing Record 18 of Set 10 | leshukonskoye\n",
      "Processing Record 19 of Set 10 | evensk\n",
      "Processing Record 20 of Set 10 | maceio\n",
      "Processing Record 21 of Set 10 | butte\n",
      "Processing Record 22 of Set 10 | havre-saint-pierre\n",
      "Processing Record 23 of Set 10 | manturovo\n",
      "Processing Record 24 of Set 10 | salinas\n",
      "Processing Record 25 of Set 10 | kavaratti\n",
      "Processing Record 26 of Set 10 | krasnotorka\n",
      "Processing Record 27 of Set 10 | linshu\n"
     ]
    },
    {
     "name": "stderr",
     "output_type": "stream",
     "text": [
      "Traceback (most recent call last):\n",
      "  File \"<ipython-input-27-02e3dfc6af17>\", line 33, in <module>\n",
      "    city_lat = city_weather[\"coord\"][\"lat\"]\n",
      "KeyError: 'coord'\n"
     ]
    },
    {
     "name": "stdout",
     "output_type": "stream",
     "text": [
      "City not found. Skipping...\n",
      "Processing Record 28 of Set 10 | sikasso\n",
      "Processing Record 29 of Set 10 | karatau\n",
      "Processing Record 30 of Set 10 | dibaya\n"
     ]
    },
    {
     "name": "stderr",
     "output_type": "stream",
     "text": [
      "Traceback (most recent call last):\n",
      "  File \"<ipython-input-27-02e3dfc6af17>\", line 33, in <module>\n",
      "    city_lat = city_weather[\"coord\"][\"lat\"]\n",
      "KeyError: 'coord'\n"
     ]
    },
    {
     "name": "stdout",
     "output_type": "stream",
     "text": [
      "City not found. Skipping...\n",
      "Processing Record 31 of Set 10 | santa isabel\n",
      "Processing Record 32 of Set 10 | negombo\n",
      "Processing Record 33 of Set 10 | karaul\n"
     ]
    },
    {
     "name": "stderr",
     "output_type": "stream",
     "text": [
      "Traceback (most recent call last):\n",
      "  File \"<ipython-input-27-02e3dfc6af17>\", line 33, in <module>\n",
      "    city_lat = city_weather[\"coord\"][\"lat\"]\n",
      "KeyError: 'coord'\n"
     ]
    },
    {
     "name": "stdout",
     "output_type": "stream",
     "text": [
      "City not found. Skipping...\n",
      "Processing Record 34 of Set 10 | chongwe\n",
      "Processing Record 35 of Set 10 | bandarbeyla\n",
      "Processing Record 36 of Set 10 | warora\n",
      "Processing Record 37 of Set 10 | ust-tsilma\n",
      "Processing Record 38 of Set 10 | khonuu\n",
      "City not found. Skipping...\n",
      "Processing Record 39 of Set 10 | codrington\n"
     ]
    },
    {
     "name": "stderr",
     "output_type": "stream",
     "text": [
      "Traceback (most recent call last):\n",
      "  File \"<ipython-input-27-02e3dfc6af17>\", line 33, in <module>\n",
      "    city_lat = city_weather[\"coord\"][\"lat\"]\n",
      "KeyError: 'coord'\n"
     ]
    },
    {
     "name": "stdout",
     "output_type": "stream",
     "text": [
      "Processing Record 40 of Set 10 | sokolo\n",
      "Processing Record 41 of Set 10 | abu dhabi\n",
      "Processing Record 42 of Set 10 | portland\n",
      "Processing Record 43 of Set 10 | tupik\n",
      "Processing Record 44 of Set 10 | nuuk\n",
      "Processing Record 45 of Set 10 | puerto escondido\n",
      "Processing Record 46 of Set 10 | shihezi\n",
      "Processing Record 47 of Set 10 | srednekolymsk\n",
      "Processing Record 48 of Set 10 | pontal do parana\n",
      "Processing Record 49 of Set 10 | bonthe\n",
      "Processing Record 50 of Set 10 | north platte\n",
      "Processing Record 1 of Set 11 | chandia\n",
      "Processing Record 2 of Set 11 | selma\n",
      "Processing Record 3 of Set 11 | rio grande\n",
      "Processing Record 4 of Set 11 | puquio\n",
      "Processing Record 5 of Set 11 | christchurch\n",
      "Processing Record 6 of Set 11 | mullaitivu\n"
     ]
    },
    {
     "name": "stderr",
     "output_type": "stream",
     "text": [
      "Traceback (most recent call last):\n",
      "  File \"<ipython-input-27-02e3dfc6af17>\", line 33, in <module>\n",
      "    city_lat = city_weather[\"coord\"][\"lat\"]\n",
      "KeyError: 'coord'\n",
      "Traceback (most recent call last):\n",
      "  File \"<ipython-input-27-02e3dfc6af17>\", line 33, in <module>\n",
      "    city_lat = city_weather[\"coord\"][\"lat\"]\n",
      "KeyError: 'coord'\n"
     ]
    },
    {
     "name": "stdout",
     "output_type": "stream",
     "text": [
      "City not found. Skipping...\n",
      "Processing Record 7 of Set 11 | kimry\n",
      "Processing Record 8 of Set 11 | paz de ariporo\n",
      "City not found. Skipping...\n",
      "Processing Record 9 of Set 11 | kyra\n",
      "Processing Record 10 of Set 11 | central point\n",
      "Processing Record 11 of Set 11 | upata\n",
      "Processing Record 12 of Set 11 | denpasar\n",
      "Processing Record 13 of Set 11 | san benedetto del tronto\n",
      "Processing Record 14 of Set 11 | bonfim\n",
      "Processing Record 15 of Set 11 | rabaul\n",
      "Processing Record 16 of Set 11 | ponta delgada\n",
      "Processing Record 17 of Set 11 | itinga\n",
      "Processing Record 18 of Set 11 | zugdidi\n",
      "Processing Record 19 of Set 11 | abu jubayhah\n",
      "City not found. Skipping...\n",
      "Processing Record 20 of Set 11 | bouna\n",
      "Processing Record 21 of Set 11 | samalaeulu\n"
     ]
    },
    {
     "name": "stderr",
     "output_type": "stream",
     "text": [
      "Traceback (most recent call last):\n",
      "  File \"<ipython-input-27-02e3dfc6af17>\", line 33, in <module>\n",
      "    city_lat = city_weather[\"coord\"][\"lat\"]\n",
      "KeyError: 'coord'\n",
      "Traceback (most recent call last):\n",
      "  File \"<ipython-input-27-02e3dfc6af17>\", line 33, in <module>\n",
      "    city_lat = city_weather[\"coord\"][\"lat\"]\n",
      "KeyError: 'coord'\n"
     ]
    },
    {
     "name": "stdout",
     "output_type": "stream",
     "text": [
      "City not found. Skipping...\n",
      "Processing Record 22 of Set 11 | haines junction\n",
      "Processing Record 23 of Set 11 | rawah\n",
      "Processing Record 24 of Set 11 | huarmey\n",
      "Processing Record 25 of Set 11 | byron bay\n",
      "Processing Record 26 of Set 11 | masuri\n",
      "Processing Record 27 of Set 11 | keti bandar\n",
      "Processing Record 28 of Set 11 | cocachacra\n",
      "Processing Record 29 of Set 11 | sao joao da barra\n",
      "Processing Record 30 of Set 11 | hirara\n",
      "Processing Record 31 of Set 11 | umba\n",
      "Processing Record 32 of Set 11 | magalia\n",
      "Processing Record 33 of Set 11 | atar\n",
      "Processing Record 34 of Set 11 | carutapera\n",
      "Processing Record 35 of Set 11 | trinidad\n",
      "Processing Record 36 of Set 11 | vila franca do campo\n",
      "Processing Record 37 of Set 11 | the valley\n",
      "Processing Record 38 of Set 11 | mareeba\n",
      "Processing Record 39 of Set 11 | egvekinot\n",
      "Processing Record 40 of Set 11 | menongue\n",
      "Processing Record 41 of Set 11 | nguiu\n",
      "City not found. Skipping...\n",
      "Processing Record 42 of Set 11 | fatikchhari\n"
     ]
    },
    {
     "name": "stderr",
     "output_type": "stream",
     "text": [
      "Traceback (most recent call last):\n",
      "  File \"<ipython-input-27-02e3dfc6af17>\", line 33, in <module>\n",
      "    city_lat = city_weather[\"coord\"][\"lat\"]\n",
      "KeyError: 'coord'\n",
      "Traceback (most recent call last):\n",
      "  File \"<ipython-input-27-02e3dfc6af17>\", line 33, in <module>\n",
      "    city_lat = city_weather[\"coord\"][\"lat\"]\n",
      "KeyError: 'coord'\n"
     ]
    },
    {
     "name": "stdout",
     "output_type": "stream",
     "text": [
      "City not found. Skipping...\n",
      "Processing Record 43 of Set 11 | marrakesh\n",
      "Processing Record 44 of Set 11 | skibotn\n",
      "Processing Record 45 of Set 11 | karratha\n",
      "Processing Record 46 of Set 11 | dalvik\n",
      "Processing Record 47 of Set 11 | kars\n",
      "Processing Record 48 of Set 11 | ocean city\n",
      "Processing Record 49 of Set 11 | volno-nadezhdinskoye\n",
      "Processing Record 50 of Set 11 | khani\n",
      "Processing Record 1 of Set 12 | muros\n",
      "Processing Record 2 of Set 12 | phan thiet\n",
      "Processing Record 3 of Set 12 | kuito\n",
      "Processing Record 4 of Set 12 | kiunga\n",
      "Processing Record 5 of Set 12 | sinnamary\n",
      "Processing Record 6 of Set 12 | vestmanna\n",
      "Processing Record 7 of Set 12 | oia\n",
      "Processing Record 8 of Set 12 | azimur\n",
      "City not found. Skipping...\n",
      "Processing Record 9 of Set 12 | piney green\n",
      "Processing Record 10 of Set 12 | dubbo\n"
     ]
    },
    {
     "name": "stderr",
     "output_type": "stream",
     "text": [
      "Traceback (most recent call last):\n",
      "  File \"<ipython-input-27-02e3dfc6af17>\", line 33, in <module>\n",
      "    city_lat = city_weather[\"coord\"][\"lat\"]\n",
      "KeyError: 'coord'\n"
     ]
    },
    {
     "name": "stdout",
     "output_type": "stream",
     "text": [
      "Processing Record 11 of Set 12 | newport\n",
      "Processing Record 12 of Set 12 | berbera\n",
      "Processing Record 13 of Set 12 | basoko\n",
      "Processing Record 14 of Set 12 | sobolevo\n",
      "Processing Record 15 of Set 12 | waw\n",
      "Processing Record 16 of Set 12 | praxedis guerrero\n",
      "Processing Record 17 of Set 12 | khargapur\n",
      "Processing Record 18 of Set 12 | zabid\n",
      "Processing Record 19 of Set 12 | pangnirtung\n",
      "Processing Record 20 of Set 12 | sonoita\n",
      "Processing Record 21 of Set 12 | comarapa\n",
      "Processing Record 22 of Set 12 | abu samrah\n",
      "Processing Record 23 of Set 12 | zaraza\n",
      "Processing Record 24 of Set 12 | sint anthonis\n",
      "Processing Record 25 of Set 12 | tabuk\n",
      "Processing Record 26 of Set 12 | road town\n",
      "Processing Record 27 of Set 12 | tual\n",
      "Processing Record 28 of Set 12 | paamiut\n",
      "Processing Record 29 of Set 12 | valle de allende\n",
      "Processing Record 30 of Set 12 | tecoanapa\n",
      "Processing Record 31 of Set 12 | rawson\n",
      "Processing Record 32 of Set 12 | lashio\n",
      "Processing Record 33 of Set 12 | guarapari\n",
      "Processing Record 34 of Set 12 | rocha\n",
      "Processing Record 35 of Set 12 | bichena\n",
      "Processing Record 36 of Set 12 | karaton\n",
      "Processing Record 37 of Set 12 | betioky\n",
      "Processing Record 38 of Set 12 | palamos\n",
      "Processing Record 39 of Set 12 | cabedelo\n",
      "Processing Record 40 of Set 12 | guipavas\n",
      "Processing Record 41 of Set 12 | ituni\n",
      "City not found. Skipping...\n",
      "Processing Record 42 of Set 12 | jaru\n",
      "Processing Record 43 of Set 12 | cave\n"
     ]
    },
    {
     "name": "stderr",
     "output_type": "stream",
     "text": [
      "Traceback (most recent call last):\n",
      "  File \"<ipython-input-27-02e3dfc6af17>\", line 33, in <module>\n",
      "    city_lat = city_weather[\"coord\"][\"lat\"]\n",
      "KeyError: 'coord'\n"
     ]
    },
    {
     "name": "stdout",
     "output_type": "stream",
     "text": [
      "Processing Record 44 of Set 12 | port blair\n",
      "Processing Record 45 of Set 12 | skibbereen\n",
      "Processing Record 46 of Set 12 | ahuimanu\n",
      "Processing Record 47 of Set 12 | tubruq\n",
      "City not found. Skipping...\n",
      "Processing Record 48 of Set 12 | arlit\n",
      "Processing Record 49 of Set 12 | bereda\n"
     ]
    },
    {
     "name": "stderr",
     "output_type": "stream",
     "text": [
      "Traceback (most recent call last):\n",
      "  File \"<ipython-input-27-02e3dfc6af17>\", line 33, in <module>\n",
      "    city_lat = city_weather[\"coord\"][\"lat\"]\n",
      "KeyError: 'coord'\n"
     ]
    },
    {
     "name": "stdout",
     "output_type": "stream",
     "text": [
      "Processing Record 50 of Set 12 | sept-iles\n",
      "Processing Record 1 of Set 13 | mossoro\n",
      "Processing Record 2 of Set 13 | aflu\n"
     ]
    },
    {
     "name": "stderr",
     "output_type": "stream",
     "text": [
      "Traceback (most recent call last):\n",
      "  File \"<ipython-input-27-02e3dfc6af17>\", line 33, in <module>\n",
      "    city_lat = city_weather[\"coord\"][\"lat\"]\n",
      "KeyError: 'coord'\n",
      "Traceback (most recent call last):\n",
      "  File \"<ipython-input-27-02e3dfc6af17>\", line 33, in <module>\n",
      "    city_lat = city_weather[\"coord\"][\"lat\"]\n",
      "KeyError: 'coord'\n"
     ]
    },
    {
     "name": "stdout",
     "output_type": "stream",
     "text": [
      "City not found. Skipping...\n",
      "Processing Record 3 of Set 13 | saint quentin\n",
      "City not found. Skipping...\n",
      "Processing Record 4 of Set 13 | shar\n",
      "Processing Record 5 of Set 13 | kimbe\n",
      "Processing Record 6 of Set 13 | kikwit\n",
      "Processing Record 7 of Set 13 | bireun\n",
      "Processing Record 8 of Set 13 | ngunguru\n",
      "Processing Record 9 of Set 13 | ust-kulom\n",
      "-----------------------------\n",
      "Data Retrieval Complete      \n",
      "-----------------------------\n"
     ]
    }
   ],
   "source": [
    "import traceback\n",
    "# Create an empty list to hold the weather data.\n",
    "city_data = []\n",
    "# Print the beginning of the logging.\n",
    "print(\"Beginning Data Retrieval     \")\n",
    "print(\"-----------------------------\")\n",
    "\n",
    "# Create counters.\n",
    "record_count = 1\n",
    "set_count = 1\n",
    "\n",
    "# Loop through all the cities in the list.\n",
    "for i, city in enumerate(cities):\n",
    "\n",
    "    # Group cities in sets of 50 for logging purposes.\n",
    "    if (i % 50 == 0 and i >= 50):\n",
    "        set_count += 1\n",
    "        record_count = 1\n",
    "    # Create endpoint URL with each city.\n",
    "    city_url = url + \"&q=\" + city\n",
    "\n",
    "    # Log the URL, record, and set numbers and the city.\n",
    "    print(f\"Processing Record {record_count} of Set {set_count} | {city}\")\n",
    "    # Add 1 to the record count.\n",
    "    record_count += 1\n",
    "    \n",
    "# Run an API request for each of the cities.\n",
    "    try:\n",
    "        \n",
    "        # Parse the JSON and retrieve data.\n",
    "        city_weather = requests.get(city_url).json()\n",
    "        # Parse out the needed data.\n",
    "        city_lat = city_weather[\"coord\"][\"lat\"]\n",
    "        city_lng = city_weather[\"coord\"][\"lon\"]\n",
    "        city_max_temp = city_weather[\"main\"][\"temp_max\"]\n",
    "        city_humidity = city_weather[\"main\"][\"humidity\"]\n",
    "        city_clouds = city_weather[\"clouds\"][\"all\"]\n",
    "        city_wind = city_weather[\"wind\"][\"speed\"]\n",
    "        city_country = city_weather[\"sys\"][\"country\"]\n",
    "        city_weather_description = city_weather[\"weather\"][0][\"description\"]\n",
    "        # Convert the date to ISO standard.\n",
    "        city_date = datetime.utcfromtimestamp(city_weather[\"dt\"]).strftime('%Y-%m-%d %H:%M:%S')\n",
    "        \n",
    "        \n",
    "        \n",
    "        #Check for rain using try except\n",
    "        try:\n",
    "            city_rain_inches = city_weather[\"rain\"][\"3h\"]\n",
    "        except:\n",
    "            city_rain_inches = 0\n",
    "        try:\n",
    "            city_snow_inches = city_weather[\"snow\"][\"3h\"]\n",
    "        except:\n",
    "            city_snow_inches = 0        \n",
    "            \n",
    "            # Append the City information into city_data list\n",
    "        city_data.append({\"City\": city.title(), \n",
    "                          \"Lat\": city_lat, \n",
    "                          \"Lng\": city_lng, \n",
    "                          \"Max Temp\": city_max_temp,\n",
    "                          \"Current Description\": city_weather_description,\n",
    "                          \"Rain inches (last 3 hrs)\": city_rain_inches,\n",
    "                          \"Snow inches (last 3 hrs)\": city_snow_inches,\n",
    "                          \"Humidity\": city_humidity,\n",
    "                          \"Cloudiness\": city_clouds,\n",
    "                          \"Wind Speed\": city_wind,\n",
    "                          \"Country\": city_country,\n",
    "                          \"Date\": city_date})\n",
    "    # If an error is experienced, skip the city\n",
    "    except:\n",
    "        traceback.print_exc()\n",
    "        print(\"City not found. Skipping...\")\n",
    "        pass\n",
    "# Indicate that Data Loading is complete \n",
    "print(\"-----------------------------\")\n",
    "print(\"Data Retrieval Complete      \")\n",
    "print(\"-----------------------------\")\n"
   ]
  },
  {
   "cell_type": "code",
   "execution_count": 28,
   "metadata": {},
   "outputs": [
    {
     "data": {
      "text/html": [
       "<div>\n",
       "<style scoped>\n",
       "    .dataframe tbody tr th:only-of-type {\n",
       "        vertical-align: middle;\n",
       "    }\n",
       "\n",
       "    .dataframe tbody tr th {\n",
       "        vertical-align: top;\n",
       "    }\n",
       "\n",
       "    .dataframe thead th {\n",
       "        text-align: right;\n",
       "    }\n",
       "</style>\n",
       "<table border=\"1\" class=\"dataframe\">\n",
       "  <thead>\n",
       "    <tr style=\"text-align: right;\">\n",
       "      <th></th>\n",
       "      <th>City</th>\n",
       "      <th>Lat</th>\n",
       "      <th>Lng</th>\n",
       "      <th>Max Temp</th>\n",
       "      <th>Current Description</th>\n",
       "      <th>Rain inches (last 3 hrs)</th>\n",
       "      <th>Snow inches (last 3 hrs)</th>\n",
       "      <th>Humidity</th>\n",
       "      <th>Cloudiness</th>\n",
       "      <th>Wind Speed</th>\n",
       "      <th>Country</th>\n",
       "      <th>Date</th>\n",
       "    </tr>\n",
       "  </thead>\n",
       "  <tbody>\n",
       "    <tr>\n",
       "      <th>0</th>\n",
       "      <td>Mataura</td>\n",
       "      <td>-46.19</td>\n",
       "      <td>168.86</td>\n",
       "      <td>52.00</td>\n",
       "      <td>broken clouds</td>\n",
       "      <td>0.00</td>\n",
       "      <td>0.0</td>\n",
       "      <td>92</td>\n",
       "      <td>77</td>\n",
       "      <td>4.00</td>\n",
       "      <td>NZ</td>\n",
       "      <td>2020-02-23 19:39:18</td>\n",
       "    </tr>\n",
       "    <tr>\n",
       "      <th>1</th>\n",
       "      <td>Borba</td>\n",
       "      <td>-4.39</td>\n",
       "      <td>-59.59</td>\n",
       "      <td>83.37</td>\n",
       "      <td>light rain</td>\n",
       "      <td>1.56</td>\n",
       "      <td>0.0</td>\n",
       "      <td>87</td>\n",
       "      <td>74</td>\n",
       "      <td>3.22</td>\n",
       "      <td>BR</td>\n",
       "      <td>2020-02-23 19:40:01</td>\n",
       "    </tr>\n",
       "    <tr>\n",
       "      <th>2</th>\n",
       "      <td>Jamestown</td>\n",
       "      <td>42.10</td>\n",
       "      <td>-79.24</td>\n",
       "      <td>48.00</td>\n",
       "      <td>clear sky</td>\n",
       "      <td>0.00</td>\n",
       "      <td>0.0</td>\n",
       "      <td>24</td>\n",
       "      <td>1</td>\n",
       "      <td>16.11</td>\n",
       "      <td>US</td>\n",
       "      <td>2020-02-23 19:32:43</td>\n",
       "    </tr>\n",
       "    <tr>\n",
       "      <th>3</th>\n",
       "      <td>Smithers</td>\n",
       "      <td>54.78</td>\n",
       "      <td>-127.17</td>\n",
       "      <td>26.60</td>\n",
       "      <td>broken clouds</td>\n",
       "      <td>0.00</td>\n",
       "      <td>0.0</td>\n",
       "      <td>68</td>\n",
       "      <td>75</td>\n",
       "      <td>2.24</td>\n",
       "      <td>CA</td>\n",
       "      <td>2020-02-23 19:39:56</td>\n",
       "    </tr>\n",
       "    <tr>\n",
       "      <th>4</th>\n",
       "      <td>Rikitea</td>\n",
       "      <td>-23.12</td>\n",
       "      <td>-134.97</td>\n",
       "      <td>79.29</td>\n",
       "      <td>light rain</td>\n",
       "      <td>0.75</td>\n",
       "      <td>0.0</td>\n",
       "      <td>73</td>\n",
       "      <td>6</td>\n",
       "      <td>10.96</td>\n",
       "      <td>PF</td>\n",
       "      <td>2020-02-23 19:32:47</td>\n",
       "    </tr>\n",
       "    <tr>\n",
       "      <th>5</th>\n",
       "      <td>Hilo</td>\n",
       "      <td>19.73</td>\n",
       "      <td>-155.09</td>\n",
       "      <td>75.99</td>\n",
       "      <td>broken clouds</td>\n",
       "      <td>0.00</td>\n",
       "      <td>0.0</td>\n",
       "      <td>60</td>\n",
       "      <td>75</td>\n",
       "      <td>4.70</td>\n",
       "      <td>US</td>\n",
       "      <td>2020-02-23 19:40:02</td>\n",
       "    </tr>\n",
       "    <tr>\n",
       "      <th>6</th>\n",
       "      <td>Zdvinsk</td>\n",
       "      <td>54.70</td>\n",
       "      <td>78.66</td>\n",
       "      <td>9.77</td>\n",
       "      <td>broken clouds</td>\n",
       "      <td>0.00</td>\n",
       "      <td>0.0</td>\n",
       "      <td>99</td>\n",
       "      <td>72</td>\n",
       "      <td>2.15</td>\n",
       "      <td>RU</td>\n",
       "      <td>2020-02-23 19:40:02</td>\n",
       "    </tr>\n",
       "    <tr>\n",
       "      <th>7</th>\n",
       "      <td>Souillac</td>\n",
       "      <td>-20.52</td>\n",
       "      <td>57.52</td>\n",
       "      <td>77.00</td>\n",
       "      <td>broken clouds</td>\n",
       "      <td>0.00</td>\n",
       "      <td>0.0</td>\n",
       "      <td>88</td>\n",
       "      <td>75</td>\n",
       "      <td>4.70</td>\n",
       "      <td>MU</td>\n",
       "      <td>2020-02-23 19:35:57</td>\n",
       "    </tr>\n",
       "    <tr>\n",
       "      <th>8</th>\n",
       "      <td>Vaini</td>\n",
       "      <td>-21.20</td>\n",
       "      <td>-175.20</td>\n",
       "      <td>78.80</td>\n",
       "      <td>scattered clouds</td>\n",
       "      <td>0.00</td>\n",
       "      <td>0.0</td>\n",
       "      <td>94</td>\n",
       "      <td>40</td>\n",
       "      <td>8.05</td>\n",
       "      <td>TO</td>\n",
       "      <td>2020-02-23 19:40:02</td>\n",
       "    </tr>\n",
       "    <tr>\n",
       "      <th>9</th>\n",
       "      <td>Klaksvik</td>\n",
       "      <td>62.23</td>\n",
       "      <td>-6.59</td>\n",
       "      <td>37.40</td>\n",
       "      <td>scattered clouds</td>\n",
       "      <td>0.00</td>\n",
       "      <td>0.0</td>\n",
       "      <td>64</td>\n",
       "      <td>33</td>\n",
       "      <td>23.04</td>\n",
       "      <td>FO</td>\n",
       "      <td>2020-02-23 19:34:59</td>\n",
       "    </tr>\n",
       "  </tbody>\n",
       "</table>\n",
       "</div>"
      ],
      "text/plain": [
       "        City    Lat     Lng  Max Temp Current Description  \\\n",
       "0    Mataura -46.19  168.86     52.00       broken clouds   \n",
       "1      Borba  -4.39  -59.59     83.37          light rain   \n",
       "2  Jamestown  42.10  -79.24     48.00           clear sky   \n",
       "3   Smithers  54.78 -127.17     26.60       broken clouds   \n",
       "4    Rikitea -23.12 -134.97     79.29          light rain   \n",
       "5       Hilo  19.73 -155.09     75.99       broken clouds   \n",
       "6    Zdvinsk  54.70   78.66      9.77       broken clouds   \n",
       "7   Souillac -20.52   57.52     77.00       broken clouds   \n",
       "8      Vaini -21.20 -175.20     78.80    scattered clouds   \n",
       "9   Klaksvik  62.23   -6.59     37.40    scattered clouds   \n",
       "\n",
       "   Rain inches (last 3 hrs)  Snow inches (last 3 hrs)  Humidity  Cloudiness  \\\n",
       "0                      0.00                       0.0        92          77   \n",
       "1                      1.56                       0.0        87          74   \n",
       "2                      0.00                       0.0        24           1   \n",
       "3                      0.00                       0.0        68          75   \n",
       "4                      0.75                       0.0        73           6   \n",
       "5                      0.00                       0.0        60          75   \n",
       "6                      0.00                       0.0        99          72   \n",
       "7                      0.00                       0.0        88          75   \n",
       "8                      0.00                       0.0        94          40   \n",
       "9                      0.00                       0.0        64          33   \n",
       "\n",
       "   Wind Speed Country                 Date  \n",
       "0        4.00      NZ  2020-02-23 19:39:18  \n",
       "1        3.22      BR  2020-02-23 19:40:01  \n",
       "2       16.11      US  2020-02-23 19:32:43  \n",
       "3        2.24      CA  2020-02-23 19:39:56  \n",
       "4       10.96      PF  2020-02-23 19:32:47  \n",
       "5        4.70      US  2020-02-23 19:40:02  \n",
       "6        2.15      RU  2020-02-23 19:40:02  \n",
       "7        4.70      MU  2020-02-23 19:35:57  \n",
       "8        8.05      TO  2020-02-23 19:40:02  \n",
       "9       23.04      FO  2020-02-23 19:34:59  "
      ]
     },
     "execution_count": 28,
     "metadata": {},
     "output_type": "execute_result"
    }
   ],
   "source": [
    "# Convert the array of dictionaries to a Pandas DataFrame.\n",
    "city_data_df = pd.DataFrame(city_data)\n",
    "city_data_df.head(10)"
   ]
  },
  {
   "cell_type": "code",
   "execution_count": 31,
   "metadata": {},
   "outputs": [],
   "source": [
    "# Create the output file (CSV).\n",
    "output_data_file = \"weather_data/challenge.csv\"\n",
    "# Export the City_Data into a CSV.\n",
    "city_data_df.to_csv(output_data_file, index_label=\"City_ID\")"
   ]
  },
  {
   "cell_type": "code",
   "execution_count": null,
   "metadata": {},
   "outputs": [],
   "source": []
  }
 ],
 "metadata": {
  "kernelspec": {
   "display_name": "PythonData",
   "language": "python",
   "name": "pythondata"
  },
  "language_info": {
   "codemirror_mode": {
    "name": "ipython",
    "version": 3
   },
   "file_extension": ".py",
   "mimetype": "text/x-python",
   "name": "python",
   "nbconvert_exporter": "python",
   "pygments_lexer": "ipython3",
   "version": "3.7.6"
  }
 },
 "nbformat": 4,
 "nbformat_minor": 4
}
