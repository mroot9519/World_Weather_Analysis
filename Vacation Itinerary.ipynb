{
 "cells": [
  {
   "cell_type": "code",
   "execution_count": 69,
   "metadata": {},
   "outputs": [
    {
     "data": {
      "text/html": [
       "<div>\n",
       "<style scoped>\n",
       "    .dataframe tbody tr th:only-of-type {\n",
       "        vertical-align: middle;\n",
       "    }\n",
       "\n",
       "    .dataframe tbody tr th {\n",
       "        vertical-align: top;\n",
       "    }\n",
       "\n",
       "    .dataframe thead th {\n",
       "        text-align: right;\n",
       "    }\n",
       "</style>\n",
       "<table border=\"1\" class=\"dataframe\">\n",
       "  <thead>\n",
       "    <tr style=\"text-align: right;\">\n",
       "      <th></th>\n",
       "      <th>City_ID</th>\n",
       "      <th>City</th>\n",
       "      <th>Country</th>\n",
       "      <th>Current Description</th>\n",
       "      <th>Lat</th>\n",
       "      <th>Lng</th>\n",
       "      <th>Hotel Name</th>\n",
       "    </tr>\n",
       "  </thead>\n",
       "  <tbody>\n",
       "    <tr>\n",
       "      <th>1</th>\n",
       "      <td>2</td>\n",
       "      <td>Jamestown</td>\n",
       "      <td>US</td>\n",
       "      <td>clear sky</td>\n",
       "      <td>42.10</td>\n",
       "      <td>-79.24</td>\n",
       "      <td>Hampton Inn &amp; Suites Jamestown</td>\n",
       "    </tr>\n",
       "    <tr>\n",
       "      <th>45</th>\n",
       "      <td>73</td>\n",
       "      <td>Albany</td>\n",
       "      <td>US</td>\n",
       "      <td>broken clouds</td>\n",
       "      <td>42.60</td>\n",
       "      <td>-73.97</td>\n",
       "      <td>NaN</td>\n",
       "    </tr>\n",
       "    <tr>\n",
       "      <th>74</th>\n",
       "      <td>117</td>\n",
       "      <td>Morehead</td>\n",
       "      <td>US</td>\n",
       "      <td>broken clouds</td>\n",
       "      <td>37.27</td>\n",
       "      <td>-87.18</td>\n",
       "      <td>CCI Express Inn</td>\n",
       "    </tr>\n",
       "    <tr>\n",
       "      <th>201</th>\n",
       "      <td>369</td>\n",
       "      <td>Eureka</td>\n",
       "      <td>US</td>\n",
       "      <td>overcast clouds</td>\n",
       "      <td>40.80</td>\n",
       "      <td>-124.16</td>\n",
       "      <td>Eureka Inn</td>\n",
       "    </tr>\n",
       "  </tbody>\n",
       "</table>\n",
       "</div>"
      ],
      "text/plain": [
       "     City_ID       City Country Current Description    Lat     Lng  \\\n",
       "1          2  Jamestown      US           clear sky  42.10  -79.24   \n",
       "45        73     Albany      US       broken clouds  42.60  -73.97   \n",
       "74       117   Morehead      US       broken clouds  37.27  -87.18   \n",
       "201      369     Eureka      US     overcast clouds  40.80 -124.16   \n",
       "\n",
       "                         Hotel Name  \n",
       "1    Hampton Inn & Suites Jamestown  \n",
       "45                              NaN  \n",
       "74                  CCI Express Inn  \n",
       "201                      Eureka Inn  "
      ]
     },
     "execution_count": 69,
     "metadata": {},
     "output_type": "execute_result"
    }
   ],
   "source": [
    "import pandas as pd\n",
    "# Store the CSV you saved created in part one into a DataFrame.\n",
    "city_data_df = pd.read_csv(\"weather_data/WeatherPy_vacation.csv\")\n",
    "jamestown_df = city_data_df.loc[city_data_df[\"City\"]==\"Jamestown\"]\n",
    "albany_df = city_data_df.loc[city_data_df[\"City\"] == \"Albany\"]\n",
    "morehead_df = city_data_df.loc[city_data_df[\"City\"] == \"Morehead\"]\n",
    "eureka_df = city_data_df.loc[city_data_df[\"City\"] == \"Eureka\"]\n",
    "vacation_df = pd.concat([jamestown_df,albany_df,morehead_df,eureka_df])\n",
    "vacation_df.head()"
   ]
  },
  {
   "cell_type": "code",
   "execution_count": null,
   "metadata": {},
   "outputs": [],
   "source": []
  },
  {
   "cell_type": "code",
   "execution_count": 74,
   "metadata": {
    "scrolled": true
   },
   "outputs": [
    {
     "data": {
      "application/vnd.jupyter.widget-view+json": {
       "model_id": "c00e5edd17324db4a22df51b7bd106c6",
       "version_major": 2,
       "version_minor": 0
      },
      "text/plain": [
       "Figure(layout=FigureLayout(height='420px'))"
      ]
     },
     "metadata": {},
     "output_type": "display_data"
    }
   ],
   "source": [
    "import gmaps\n",
    "import gmaps.datasets\n",
    "from  config import g_key\n",
    "gmaps.configure(api_key= g_key)\n",
    "\n",
    "# Latitude-longitude pairs\n",
    "jamestown = (jamestown_df[[\"Lat\"][0]],jamestown_df[[\"Lng\"][0]])\n",
    "albany = (albany_df[[\"Lat\"][0]],albany_df[[\"Lng\"][0]])\n",
    "jamestown[0]\n",
    "\n",
    "vacationTowns = {}\n",
    "for index, row in vacation_df.iterrows():\n",
    "    lat = row[\"Lat\"]\n",
    "    lng = row[\"Lng\"]\n",
    "    city = row[\"City\"]\n",
    "    \n",
    "    vacationTowns[city]=(lat, lng)\n",
    "\n",
    "fig = gmaps.figure()\n",
    "\n",
    "jamestown2eurea = gmaps.directions_layer(\n",
    "        vacationTowns[\"Jamestown\"], vacationTowns[\"Eureka\"], waypoints=[vacationTowns[\"Albany\"],vacationTowns[\"Morehead\"]])\n",
    "fig.add_layer(jamestown2eurea)\n",
    "\n",
    "info_box_template = \"\"\"\n",
    "<dl>\n",
    "<dt>Hotel Name</dt><dd>{Hotel Name}</dd>\n",
    "<dt>City</dt><dd>{City}</dd>\n",
    "<dt>Country</dt><dd>{Country}</dd>\n",
    "<dt>Current Weather</dt><dd>{Current Description} °F</dd>\n",
    "</dl>\n",
    "\"\"\"\n",
    "# Store the DataFrame Row.\n",
    "mark_info = [info_box_template.format(**row) for index, row in vacation_df.iterrows()]\n",
    "# Add a marks of temperature for the vacation spots and a pop-up marker for each city.\n",
    "locations = vacation_df[[\"Lat\", \"Lng\"]]\n",
    "fig = gmaps.figure(center=(30.0, 31.0), zoom_level=1.5)\n",
    "marker_layer = gmaps.marker_layer(locations, info_box_content=mark_info)\n",
    "fig.add_layer(marker_layer)\n",
    "\n",
    "\n",
    "\n",
    "fig"
   ]
  },
  {
   "cell_type": "code",
   "execution_count": null,
   "metadata": {},
   "outputs": [],
   "source": []
  }
 ],
 "metadata": {
  "kernelspec": {
   "display_name": "PythonData",
   "language": "python",
   "name": "pythondata"
  },
  "language_info": {
   "codemirror_mode": {
    "name": "ipython",
    "version": 3
   },
   "file_extension": ".py",
   "mimetype": "text/x-python",
   "name": "python",
   "nbconvert_exporter": "python",
   "pygments_lexer": "ipython3",
   "version": "3.7.6"
  }
 },
 "nbformat": 4,
 "nbformat_minor": 4
}
